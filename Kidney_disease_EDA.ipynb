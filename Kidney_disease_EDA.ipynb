{
 "cells": [
  {
   "cell_type": "code",
   "execution_count": 1,
   "id": "54d88ae8-a00a-4558-bc81-5f5ade1ca5f8",
   "metadata": {},
   "outputs": [],
   "source": [
    "import pandas as pd\n",
    "df = pd.read_csv('csv_result-chronic_kidney_disease - Copy.csv')\n"
   ]
  },
  {
   "cell_type": "code",
   "execution_count": 2,
   "id": "4dd0e180-8aa5-4db7-a483-728346619295",
   "metadata": {},
   "outputs": [
    {
     "data": {
      "text/html": [
       "<div>\n",
       "<style scoped>\n",
       "    .dataframe tbody tr th:only-of-type {\n",
       "        vertical-align: middle;\n",
       "    }\n",
       "\n",
       "    .dataframe tbody tr th {\n",
       "        vertical-align: top;\n",
       "    }\n",
       "\n",
       "    .dataframe thead th {\n",
       "        text-align: right;\n",
       "    }\n",
       "</style>\n",
       "<table border=\"1\" class=\"dataframe\">\n",
       "  <thead>\n",
       "    <tr style=\"text-align: right;\">\n",
       "      <th></th>\n",
       "      <th>id</th>\n",
       "      <th>'age'</th>\n",
       "      <th>'bp'</th>\n",
       "      <th>'sg'</th>\n",
       "      <th>'al'</th>\n",
       "      <th>'su'</th>\n",
       "      <th>'rbc'</th>\n",
       "      <th>'pc'</th>\n",
       "      <th>'pcc'</th>\n",
       "      <th>'ba'</th>\n",
       "      <th>...</th>\n",
       "      <th>'pcv'</th>\n",
       "      <th>'wbcc'</th>\n",
       "      <th>'rbcc'</th>\n",
       "      <th>'htn'</th>\n",
       "      <th>'dm'</th>\n",
       "      <th>'cad'</th>\n",
       "      <th>'appet'</th>\n",
       "      <th>'pe'</th>\n",
       "      <th>'ane'</th>\n",
       "      <th>'class'</th>\n",
       "    </tr>\n",
       "  </thead>\n",
       "  <tbody>\n",
       "    <tr>\n",
       "      <th>0</th>\n",
       "      <td>1</td>\n",
       "      <td>48</td>\n",
       "      <td>80</td>\n",
       "      <td>1.02</td>\n",
       "      <td>1</td>\n",
       "      <td>0</td>\n",
       "      <td>?</td>\n",
       "      <td>normal</td>\n",
       "      <td>notpresent</td>\n",
       "      <td>notpresent</td>\n",
       "      <td>...</td>\n",
       "      <td>44</td>\n",
       "      <td>7800</td>\n",
       "      <td>5.2</td>\n",
       "      <td>yes</td>\n",
       "      <td>yes</td>\n",
       "      <td>no</td>\n",
       "      <td>good</td>\n",
       "      <td>no</td>\n",
       "      <td>no</td>\n",
       "      <td>ckd</td>\n",
       "    </tr>\n",
       "    <tr>\n",
       "      <th>1</th>\n",
       "      <td>2</td>\n",
       "      <td>7</td>\n",
       "      <td>50</td>\n",
       "      <td>1.02</td>\n",
       "      <td>4</td>\n",
       "      <td>0</td>\n",
       "      <td>?</td>\n",
       "      <td>normal</td>\n",
       "      <td>notpresent</td>\n",
       "      <td>notpresent</td>\n",
       "      <td>...</td>\n",
       "      <td>38</td>\n",
       "      <td>6000</td>\n",
       "      <td>?</td>\n",
       "      <td>no</td>\n",
       "      <td>no</td>\n",
       "      <td>no</td>\n",
       "      <td>good</td>\n",
       "      <td>no</td>\n",
       "      <td>no</td>\n",
       "      <td>ckd</td>\n",
       "    </tr>\n",
       "  </tbody>\n",
       "</table>\n",
       "<p>2 rows × 26 columns</p>\n",
       "</div>"
      ],
      "text/plain": [
       "   id 'age' 'bp'  'sg' 'al' 'su' 'rbc'    'pc'       'pcc'        'ba'  ...  \\\n",
       "0   1    48   80  1.02    1    0     ?  normal  notpresent  notpresent  ...   \n",
       "1   2     7   50  1.02    4    0     ?  normal  notpresent  notpresent  ...   \n",
       "\n",
       "  'pcv' 'wbcc' 'rbcc' 'htn' 'dm' 'cad' 'appet' 'pe' 'ane' 'class'  \n",
       "0    44   7800    5.2   yes  yes    no    good   no    no     ckd  \n",
       "1    38   6000      ?    no   no    no    good   no    no     ckd  \n",
       "\n",
       "[2 rows x 26 columns]"
      ]
     },
     "execution_count": 2,
     "metadata": {},
     "output_type": "execute_result"
    }
   ],
   "source": [
    "df.head(2)"
   ]
  },
  {
   "cell_type": "code",
   "execution_count": 3,
   "id": "a36a2669-b634-4261-afe0-6d3ac49a00a4",
   "metadata": {},
   "outputs": [
    {
     "data": {
      "text/plain": [
       "Index(['id', ''age'', ''bp'', ''sg'', ''al'', ''su'', ''rbc'', ''pc'', ''pcc'',\n",
       "       ''ba'', ''bgr'', ''bu'', ''sc'', ''sod'', ''pot'', ''hemo'', ''pcv'',\n",
       "       ''wbcc'', ''rbcc'', ''htn'', ''dm'', ''cad'', ''appet'', ''pe'',\n",
       "       ''ane'', ''class''],\n",
       "      dtype='object')"
      ]
     },
     "execution_count": 3,
     "metadata": {},
     "output_type": "execute_result"
    }
   ],
   "source": [
    "df.columns"
   ]
  },
  {
   "cell_type": "code",
   "execution_count": 4,
   "id": "77bad363-57d8-49a4-9dff-942698317a4d",
   "metadata": {},
   "outputs": [],
   "source": [
    "df.columns = ['id', 'age', 'bp', 'sg', 'albumin', 'sugar', 'rbc', 'pus_cell', 'pcclumps',\n",
    "       'bacteria', 'blood_glucose_random', 'blood_urea', 'serum_c', 'sodium', 'potassium', 'hemoglobin', 'pcv',\n",
    "       'wbc_count', 'rbc_count', 'hyptension', 'diabetes-mellitus', 'cor_artery_disease', 'appetite', 'pe',\n",
    "       'anemia', 'class']"
   ]
  },
  {
   "cell_type": "code",
   "execution_count": 5,
   "id": "83eafb22-b73a-45a0-adb6-aa01e78228ba",
   "metadata": {},
   "outputs": [
    {
     "data": {
      "text/html": [
       "<div>\n",
       "<style scoped>\n",
       "    .dataframe tbody tr th:only-of-type {\n",
       "        vertical-align: middle;\n",
       "    }\n",
       "\n",
       "    .dataframe tbody tr th {\n",
       "        vertical-align: top;\n",
       "    }\n",
       "\n",
       "    .dataframe thead th {\n",
       "        text-align: right;\n",
       "    }\n",
       "</style>\n",
       "<table border=\"1\" class=\"dataframe\">\n",
       "  <thead>\n",
       "    <tr style=\"text-align: right;\">\n",
       "      <th></th>\n",
       "      <th>id</th>\n",
       "      <th>age</th>\n",
       "      <th>bp</th>\n",
       "      <th>sg</th>\n",
       "      <th>albumin</th>\n",
       "      <th>sugar</th>\n",
       "      <th>rbc</th>\n",
       "      <th>pus_cell</th>\n",
       "      <th>pcclumps</th>\n",
       "      <th>bacteria</th>\n",
       "      <th>...</th>\n",
       "      <th>pcv</th>\n",
       "      <th>wbc_count</th>\n",
       "      <th>rbc_count</th>\n",
       "      <th>hyptension</th>\n",
       "      <th>diabetes-mellitus</th>\n",
       "      <th>cor_artery_disease</th>\n",
       "      <th>appetite</th>\n",
       "      <th>pe</th>\n",
       "      <th>anemia</th>\n",
       "      <th>class</th>\n",
       "    </tr>\n",
       "  </thead>\n",
       "  <tbody>\n",
       "    <tr>\n",
       "      <th>0</th>\n",
       "      <td>1</td>\n",
       "      <td>48</td>\n",
       "      <td>80</td>\n",
       "      <td>1.02</td>\n",
       "      <td>1</td>\n",
       "      <td>0</td>\n",
       "      <td>?</td>\n",
       "      <td>normal</td>\n",
       "      <td>notpresent</td>\n",
       "      <td>notpresent</td>\n",
       "      <td>...</td>\n",
       "      <td>44</td>\n",
       "      <td>7800</td>\n",
       "      <td>5.2</td>\n",
       "      <td>yes</td>\n",
       "      <td>yes</td>\n",
       "      <td>no</td>\n",
       "      <td>good</td>\n",
       "      <td>no</td>\n",
       "      <td>no</td>\n",
       "      <td>ckd</td>\n",
       "    </tr>\n",
       "    <tr>\n",
       "      <th>1</th>\n",
       "      <td>2</td>\n",
       "      <td>7</td>\n",
       "      <td>50</td>\n",
       "      <td>1.02</td>\n",
       "      <td>4</td>\n",
       "      <td>0</td>\n",
       "      <td>?</td>\n",
       "      <td>normal</td>\n",
       "      <td>notpresent</td>\n",
       "      <td>notpresent</td>\n",
       "      <td>...</td>\n",
       "      <td>38</td>\n",
       "      <td>6000</td>\n",
       "      <td>?</td>\n",
       "      <td>no</td>\n",
       "      <td>no</td>\n",
       "      <td>no</td>\n",
       "      <td>good</td>\n",
       "      <td>no</td>\n",
       "      <td>no</td>\n",
       "      <td>ckd</td>\n",
       "    </tr>\n",
       "    <tr>\n",
       "      <th>2</th>\n",
       "      <td>3</td>\n",
       "      <td>62</td>\n",
       "      <td>80</td>\n",
       "      <td>1.01</td>\n",
       "      <td>2</td>\n",
       "      <td>3</td>\n",
       "      <td>normal</td>\n",
       "      <td>normal</td>\n",
       "      <td>notpresent</td>\n",
       "      <td>notpresent</td>\n",
       "      <td>...</td>\n",
       "      <td>31</td>\n",
       "      <td>7500</td>\n",
       "      <td>?</td>\n",
       "      <td>no</td>\n",
       "      <td>yes</td>\n",
       "      <td>no</td>\n",
       "      <td>poor</td>\n",
       "      <td>no</td>\n",
       "      <td>yes</td>\n",
       "      <td>ckd</td>\n",
       "    </tr>\n",
       "    <tr>\n",
       "      <th>3</th>\n",
       "      <td>4</td>\n",
       "      <td>48</td>\n",
       "      <td>70</td>\n",
       "      <td>1.005</td>\n",
       "      <td>4</td>\n",
       "      <td>0</td>\n",
       "      <td>normal</td>\n",
       "      <td>abnormal</td>\n",
       "      <td>present</td>\n",
       "      <td>notpresent</td>\n",
       "      <td>...</td>\n",
       "      <td>32</td>\n",
       "      <td>6700</td>\n",
       "      <td>3.9</td>\n",
       "      <td>yes</td>\n",
       "      <td>no</td>\n",
       "      <td>no</td>\n",
       "      <td>poor</td>\n",
       "      <td>yes</td>\n",
       "      <td>yes</td>\n",
       "      <td>ckd</td>\n",
       "    </tr>\n",
       "    <tr>\n",
       "      <th>4</th>\n",
       "      <td>5</td>\n",
       "      <td>51</td>\n",
       "      <td>80</td>\n",
       "      <td>1.01</td>\n",
       "      <td>2</td>\n",
       "      <td>0</td>\n",
       "      <td>normal</td>\n",
       "      <td>normal</td>\n",
       "      <td>notpresent</td>\n",
       "      <td>notpresent</td>\n",
       "      <td>...</td>\n",
       "      <td>35</td>\n",
       "      <td>7300</td>\n",
       "      <td>4.6</td>\n",
       "      <td>no</td>\n",
       "      <td>no</td>\n",
       "      <td>no</td>\n",
       "      <td>good</td>\n",
       "      <td>no</td>\n",
       "      <td>no</td>\n",
       "      <td>ckd</td>\n",
       "    </tr>\n",
       "  </tbody>\n",
       "</table>\n",
       "<p>5 rows × 26 columns</p>\n",
       "</div>"
      ],
      "text/plain": [
       "   id age  bp     sg albumin sugar     rbc  pus_cell    pcclumps    bacteria  \\\n",
       "0   1  48  80   1.02       1     0       ?    normal  notpresent  notpresent   \n",
       "1   2   7  50   1.02       4     0       ?    normal  notpresent  notpresent   \n",
       "2   3  62  80   1.01       2     3  normal    normal  notpresent  notpresent   \n",
       "3   4  48  70  1.005       4     0  normal  abnormal     present  notpresent   \n",
       "4   5  51  80   1.01       2     0  normal    normal  notpresent  notpresent   \n",
       "\n",
       "   ... pcv wbc_count rbc_count hyptension diabetes-mellitus  \\\n",
       "0  ...  44      7800       5.2        yes               yes   \n",
       "1  ...  38      6000         ?         no                no   \n",
       "2  ...  31      7500         ?         no               yes   \n",
       "3  ...  32      6700       3.9        yes                no   \n",
       "4  ...  35      7300       4.6         no                no   \n",
       "\n",
       "  cor_artery_disease appetite   pe anemia class  \n",
       "0                 no     good   no     no   ckd  \n",
       "1                 no     good   no     no   ckd  \n",
       "2                 no     poor   no    yes   ckd  \n",
       "3                 no     poor  yes    yes   ckd  \n",
       "4                 no     good   no     no   ckd  \n",
       "\n",
       "[5 rows x 26 columns]"
      ]
     },
     "execution_count": 5,
     "metadata": {},
     "output_type": "execute_result"
    }
   ],
   "source": [
    "df.head()"
   ]
  },
  {
   "cell_type": "code",
   "execution_count": 6,
   "id": "8010473f-465c-4810-b1f0-81f29c267349",
   "metadata": {},
   "outputs": [],
   "source": [
    "df['bp']=df['bp'].replace(\"?\",\"80\").astype('int')"
   ]
  },
  {
   "cell_type": "code",
   "execution_count": 7,
   "id": "433b50a0-9f71-41c0-85b2-4970f7c63d29",
   "metadata": {},
   "outputs": [],
   "source": [
    "import numpy as np\n",
    "df.replace('?',np.nan,inplace =True)"
   ]
  },
  {
   "cell_type": "code",
   "execution_count": 8,
   "id": "5c6c062a-a174-4a18-a86e-501add402d6b",
   "metadata": {},
   "outputs": [
    {
     "data": {
      "text/html": [
       "<div>\n",
       "<style scoped>\n",
       "    .dataframe tbody tr th:only-of-type {\n",
       "        vertical-align: middle;\n",
       "    }\n",
       "\n",
       "    .dataframe tbody tr th {\n",
       "        vertical-align: top;\n",
       "    }\n",
       "\n",
       "    .dataframe thead th {\n",
       "        text-align: right;\n",
       "    }\n",
       "</style>\n",
       "<table border=\"1\" class=\"dataframe\">\n",
       "  <thead>\n",
       "    <tr style=\"text-align: right;\">\n",
       "      <th></th>\n",
       "      <th>id</th>\n",
       "      <th>age</th>\n",
       "      <th>bp</th>\n",
       "      <th>sg</th>\n",
       "      <th>albumin</th>\n",
       "      <th>sugar</th>\n",
       "      <th>rbc</th>\n",
       "      <th>pus_cell</th>\n",
       "      <th>pcclumps</th>\n",
       "      <th>bacteria</th>\n",
       "      <th>...</th>\n",
       "      <th>pcv</th>\n",
       "      <th>wbc_count</th>\n",
       "      <th>rbc_count</th>\n",
       "      <th>hyptension</th>\n",
       "      <th>diabetes-mellitus</th>\n",
       "      <th>cor_artery_disease</th>\n",
       "      <th>appetite</th>\n",
       "      <th>pe</th>\n",
       "      <th>anemia</th>\n",
       "      <th>class</th>\n",
       "    </tr>\n",
       "  </thead>\n",
       "  <tbody>\n",
       "    <tr>\n",
       "      <th>0</th>\n",
       "      <td>1</td>\n",
       "      <td>48</td>\n",
       "      <td>80</td>\n",
       "      <td>1.02</td>\n",
       "      <td>1</td>\n",
       "      <td>0</td>\n",
       "      <td>NaN</td>\n",
       "      <td>normal</td>\n",
       "      <td>notpresent</td>\n",
       "      <td>notpresent</td>\n",
       "      <td>...</td>\n",
       "      <td>44</td>\n",
       "      <td>7800</td>\n",
       "      <td>5.2</td>\n",
       "      <td>yes</td>\n",
       "      <td>yes</td>\n",
       "      <td>no</td>\n",
       "      <td>good</td>\n",
       "      <td>no</td>\n",
       "      <td>no</td>\n",
       "      <td>ckd</td>\n",
       "    </tr>\n",
       "    <tr>\n",
       "      <th>1</th>\n",
       "      <td>2</td>\n",
       "      <td>7</td>\n",
       "      <td>50</td>\n",
       "      <td>1.02</td>\n",
       "      <td>4</td>\n",
       "      <td>0</td>\n",
       "      <td>NaN</td>\n",
       "      <td>normal</td>\n",
       "      <td>notpresent</td>\n",
       "      <td>notpresent</td>\n",
       "      <td>...</td>\n",
       "      <td>38</td>\n",
       "      <td>6000</td>\n",
       "      <td>NaN</td>\n",
       "      <td>no</td>\n",
       "      <td>no</td>\n",
       "      <td>no</td>\n",
       "      <td>good</td>\n",
       "      <td>no</td>\n",
       "      <td>no</td>\n",
       "      <td>ckd</td>\n",
       "    </tr>\n",
       "    <tr>\n",
       "      <th>2</th>\n",
       "      <td>3</td>\n",
       "      <td>62</td>\n",
       "      <td>80</td>\n",
       "      <td>1.01</td>\n",
       "      <td>2</td>\n",
       "      <td>3</td>\n",
       "      <td>normal</td>\n",
       "      <td>normal</td>\n",
       "      <td>notpresent</td>\n",
       "      <td>notpresent</td>\n",
       "      <td>...</td>\n",
       "      <td>31</td>\n",
       "      <td>7500</td>\n",
       "      <td>NaN</td>\n",
       "      <td>no</td>\n",
       "      <td>yes</td>\n",
       "      <td>no</td>\n",
       "      <td>poor</td>\n",
       "      <td>no</td>\n",
       "      <td>yes</td>\n",
       "      <td>ckd</td>\n",
       "    </tr>\n",
       "    <tr>\n",
       "      <th>3</th>\n",
       "      <td>4</td>\n",
       "      <td>48</td>\n",
       "      <td>70</td>\n",
       "      <td>1.005</td>\n",
       "      <td>4</td>\n",
       "      <td>0</td>\n",
       "      <td>normal</td>\n",
       "      <td>abnormal</td>\n",
       "      <td>present</td>\n",
       "      <td>notpresent</td>\n",
       "      <td>...</td>\n",
       "      <td>32</td>\n",
       "      <td>6700</td>\n",
       "      <td>3.9</td>\n",
       "      <td>yes</td>\n",
       "      <td>no</td>\n",
       "      <td>no</td>\n",
       "      <td>poor</td>\n",
       "      <td>yes</td>\n",
       "      <td>yes</td>\n",
       "      <td>ckd</td>\n",
       "    </tr>\n",
       "    <tr>\n",
       "      <th>4</th>\n",
       "      <td>5</td>\n",
       "      <td>51</td>\n",
       "      <td>80</td>\n",
       "      <td>1.01</td>\n",
       "      <td>2</td>\n",
       "      <td>0</td>\n",
       "      <td>normal</td>\n",
       "      <td>normal</td>\n",
       "      <td>notpresent</td>\n",
       "      <td>notpresent</td>\n",
       "      <td>...</td>\n",
       "      <td>35</td>\n",
       "      <td>7300</td>\n",
       "      <td>4.6</td>\n",
       "      <td>no</td>\n",
       "      <td>no</td>\n",
       "      <td>no</td>\n",
       "      <td>good</td>\n",
       "      <td>no</td>\n",
       "      <td>no</td>\n",
       "      <td>ckd</td>\n",
       "    </tr>\n",
       "  </tbody>\n",
       "</table>\n",
       "<p>5 rows × 26 columns</p>\n",
       "</div>"
      ],
      "text/plain": [
       "   id age  bp     sg albumin sugar     rbc  pus_cell    pcclumps    bacteria  \\\n",
       "0   1  48  80   1.02       1     0     NaN    normal  notpresent  notpresent   \n",
       "1   2   7  50   1.02       4     0     NaN    normal  notpresent  notpresent   \n",
       "2   3  62  80   1.01       2     3  normal    normal  notpresent  notpresent   \n",
       "3   4  48  70  1.005       4     0  normal  abnormal     present  notpresent   \n",
       "4   5  51  80   1.01       2     0  normal    normal  notpresent  notpresent   \n",
       "\n",
       "   ... pcv wbc_count rbc_count hyptension diabetes-mellitus  \\\n",
       "0  ...  44      7800       5.2        yes               yes   \n",
       "1  ...  38      6000       NaN         no                no   \n",
       "2  ...  31      7500       NaN         no               yes   \n",
       "3  ...  32      6700       3.9        yes                no   \n",
       "4  ...  35      7300       4.6         no                no   \n",
       "\n",
       "  cor_artery_disease appetite   pe anemia class  \n",
       "0                 no     good   no     no   ckd  \n",
       "1                 no     good   no     no   ckd  \n",
       "2                 no     poor   no    yes   ckd  \n",
       "3                 no     poor  yes    yes   ckd  \n",
       "4                 no     good   no     no   ckd  \n",
       "\n",
       "[5 rows x 26 columns]"
      ]
     },
     "execution_count": 8,
     "metadata": {},
     "output_type": "execute_result"
    }
   ],
   "source": [
    "df.head()"
   ]
  },
  {
   "cell_type": "code",
   "execution_count": 9,
   "id": "5ec9e40d-01e7-49fd-886f-485699583080",
   "metadata": {},
   "outputs": [],
   "source": [
    "#data is skewed, so we replace the age with mode or median\n",
    "from statistics import mode\n",
    "#mode(df['age']),df['age'].median(),df['age'].mean()\n"
   ]
  },
  {
   "cell_type": "code",
   "execution_count": 10,
   "id": "b0a34d14-c64b-4599-9c37-5eb49a11d545",
   "metadata": {},
   "outputs": [],
   "source": [
    "import seaborn as sns\n",
    "df['age'] = df['age'].astype('Int64')"
   ]
  },
  {
   "cell_type": "code",
   "execution_count": 11,
   "id": "fa57c8cd-5e63-4aa3-9146-42c782ae8570",
   "metadata": {},
   "outputs": [],
   "source": [
    "df['age'].fillna(df['age'].median(),inplace=True)"
   ]
  },
  {
   "cell_type": "code",
   "execution_count": 12,
   "id": "2d881ebb-ce84-45da-8511-15f1658a4e64",
   "metadata": {},
   "outputs": [
    {
     "data": {
      "text/plain": [
       "array(['1.02', '1.01', '1.005', '1.015', nan, '1.025'], dtype=object)"
      ]
     },
     "execution_count": 12,
     "metadata": {},
     "output_type": "execute_result"
    }
   ],
   "source": [
    "df['sg'].unique()"
   ]
  },
  {
   "cell_type": "code",
   "execution_count": 13,
   "id": "4f27703e-07ac-4d8f-9249-877c6db64205",
   "metadata": {},
   "outputs": [],
   "source": [
    "df['sg'].fillna(mode(df['sg']),inplace = True)"
   ]
  },
  {
   "cell_type": "code",
   "execution_count": 14,
   "id": "c9dbdaa9-1ef2-4014-bd0a-7c78599ae415",
   "metadata": {},
   "outputs": [
    {
     "data": {
      "text/plain": [
       "0       1.02\n",
       "1       1.02\n",
       "2       1.01\n",
       "3      1.005\n",
       "4       1.01\n",
       "       ...  \n",
       "395     1.02\n",
       "396    1.025\n",
       "397     1.02\n",
       "398    1.025\n",
       "399    1.025\n",
       "Name: sg, Length: 400, dtype: object"
      ]
     },
     "execution_count": 14,
     "metadata": {},
     "output_type": "execute_result"
    }
   ],
   "source": [
    "df['sg']"
   ]
  },
  {
   "cell_type": "code",
   "execution_count": 15,
   "id": "dbd1a1d8-07fe-463c-a0b2-fd9b67b1ad57",
   "metadata": {},
   "outputs": [],
   "source": [
    "df['albumin'].fillna(mode(df['albumin']),inplace = True)"
   ]
  },
  {
   "cell_type": "code",
   "execution_count": 16,
   "id": "b8df85f2-a28a-4f5d-8040-03b529d0df65",
   "metadata": {},
   "outputs": [
    {
     "data": {
      "text/plain": [
       "0    245\n",
       "1     44\n",
       "2     43\n",
       "3     43\n",
       "4     24\n",
       "5      1\n",
       "Name: albumin, dtype: int64"
      ]
     },
     "execution_count": 16,
     "metadata": {},
     "output_type": "execute_result"
    }
   ],
   "source": [
    "df['albumin'].value_counts()"
   ]
  },
  {
   "cell_type": "code",
   "execution_count": 17,
   "id": "75d76682-ac61-4780-a352-c5c1e6a35e6a",
   "metadata": {},
   "outputs": [
    {
     "data": {
      "text/plain": [
       "0    290\n",
       "2     18\n",
       "3     14\n",
       "4     13\n",
       "1     13\n",
       "5      3\n",
       "Name: sugar, dtype: int64"
      ]
     },
     "execution_count": 17,
     "metadata": {},
     "output_type": "execute_result"
    }
   ],
   "source": [
    "df['sugar'].value_counts()"
   ]
  },
  {
   "cell_type": "code",
   "execution_count": 18,
   "id": "1b7f21ae-c885-4508-90fa-9f916d8e59fe",
   "metadata": {},
   "outputs": [],
   "source": [
    "df['sugar'].fillna(mode(df['sugar']),inplace = True)"
   ]
  },
  {
   "cell_type": "code",
   "execution_count": 19,
   "id": "041875d2-4e29-405c-bada-7857f7286059",
   "metadata": {},
   "outputs": [
    {
     "data": {
      "text/plain": [
       "0    339\n",
       "2     18\n",
       "3     14\n",
       "4     13\n",
       "1     13\n",
       "5      3\n",
       "Name: sugar, dtype: int64"
      ]
     },
     "execution_count": 19,
     "metadata": {},
     "output_type": "execute_result"
    }
   ],
   "source": [
    "df.sugar.value_counts()"
   ]
  },
  {
   "cell_type": "code",
   "execution_count": 20,
   "id": "c4c7317f-5327-498a-bdc9-9aea9520028e",
   "metadata": {},
   "outputs": [
    {
     "data": {
      "text/plain": [
       "normal      201\n",
       "abnormal     47\n",
       "Name: rbc, dtype: int64"
      ]
     },
     "execution_count": 20,
     "metadata": {},
     "output_type": "execute_result"
    }
   ],
   "source": [
    "df['rbc'].value_counts()"
   ]
  },
  {
   "cell_type": "code",
   "execution_count": 21,
   "id": "1f680592-0c0f-49e6-90d3-c264aee05040",
   "metadata": {},
   "outputs": [],
   "source": [
    "df['rbc'].fillna(mode(df['rbc']),inplace = True)"
   ]
  },
  {
   "cell_type": "code",
   "execution_count": 22,
   "id": "0b83130c-194c-430f-b15a-241f8897d443",
   "metadata": {},
   "outputs": [
    {
     "data": {
      "text/plain": [
       "normal      353\n",
       "abnormal     47\n",
       "Name: rbc, dtype: int64"
      ]
     },
     "execution_count": 22,
     "metadata": {},
     "output_type": "execute_result"
    }
   ],
   "source": [
    "df.rbc.value_counts()"
   ]
  },
  {
   "cell_type": "code",
   "execution_count": 23,
   "id": "27bab676-bd13-4fcb-b705-963824eb97d7",
   "metadata": {},
   "outputs": [
    {
     "data": {
      "text/plain": [
       "array(['normal', 'abnormal', nan], dtype=object)"
      ]
     },
     "execution_count": 23,
     "metadata": {},
     "output_type": "execute_result"
    }
   ],
   "source": [
    "df['pus_cell'].unique()"
   ]
  },
  {
   "cell_type": "code",
   "execution_count": 24,
   "id": "4e1f7155-62d0-4a3f-ad22-fdd3cd38393e",
   "metadata": {},
   "outputs": [
    {
     "data": {
      "text/plain": [
       "normal      259\n",
       "abnormal     76\n",
       "Name: pus_cell, dtype: int64"
      ]
     },
     "execution_count": 24,
     "metadata": {},
     "output_type": "execute_result"
    }
   ],
   "source": [
    "df.pus_cell.value_counts()"
   ]
  },
  {
   "cell_type": "code",
   "execution_count": 25,
   "id": "f13f6da4-7cc0-4956-90e7-2e99d141db88",
   "metadata": {},
   "outputs": [],
   "source": [
    "df['pus_cell'].fillna(mode(df['pus_cell']),inplace = True)"
   ]
  },
  {
   "cell_type": "code",
   "execution_count": 26,
   "id": "ad06a13c-460a-4e73-9db0-029df929fa8e",
   "metadata": {},
   "outputs": [
    {
     "data": {
      "text/plain": [
       "normal      324\n",
       "abnormal     76\n",
       "Name: pus_cell, dtype: int64"
      ]
     },
     "execution_count": 26,
     "metadata": {},
     "output_type": "execute_result"
    }
   ],
   "source": [
    "df.pus_cell.value_counts()"
   ]
  },
  {
   "cell_type": "code",
   "execution_count": 27,
   "id": "649393ff-d8d7-4bfd-ad3b-4285d85004a4",
   "metadata": {},
   "outputs": [
    {
     "data": {
      "text/plain": [
       "notpresent    354\n",
       "present        42\n",
       "Name: pcclumps, dtype: int64"
      ]
     },
     "execution_count": 27,
     "metadata": {},
     "output_type": "execute_result"
    }
   ],
   "source": [
    "df['pcclumps'].value_counts()"
   ]
  },
  {
   "cell_type": "code",
   "execution_count": 28,
   "id": "3781adba-7ab2-41d1-92f4-135c980eda82",
   "metadata": {},
   "outputs": [],
   "source": [
    "df['pcclumps'].fillna(mode(df['pcclumps']),inplace = True)"
   ]
  },
  {
   "cell_type": "code",
   "execution_count": 29,
   "id": "50bf709c-e7d5-4ebb-be68-37e3bbf258cb",
   "metadata": {},
   "outputs": [
    {
     "data": {
      "text/plain": [
       "notpresent    374\n",
       "present        22\n",
       "Name: bacteria, dtype: int64"
      ]
     },
     "execution_count": 29,
     "metadata": {},
     "output_type": "execute_result"
    }
   ],
   "source": [
    "df['bacteria'].value_counts()"
   ]
  },
  {
   "cell_type": "code",
   "execution_count": 30,
   "id": "17f22f4b-50a2-46bf-bc5a-2ba3473f8ba1",
   "metadata": {},
   "outputs": [],
   "source": [
    "df['bacteria'].fillna(mode(df['bacteria']),inplace = True)"
   ]
  },
  {
   "cell_type": "code",
   "execution_count": 31,
   "id": "0ed34902-3d16-4b8f-9323-0d0dac35b64e",
   "metadata": {},
   "outputs": [
    {
     "data": {
      "text/plain": [
       "notpresent    378\n",
       "present        22\n",
       "Name: bacteria, dtype: int64"
      ]
     },
     "execution_count": 31,
     "metadata": {},
     "output_type": "execute_result"
    }
   ],
   "source": [
    "df['bacteria'].value_counts()"
   ]
  },
  {
   "cell_type": "code",
   "execution_count": 32,
   "id": "8097944b-7423-42dc-9559-72bde17c3521",
   "metadata": {},
   "outputs": [
    {
     "data": {
      "text/plain": [
       "array(['121', nan, '423', '117', '106', '74', '100', '410', '138', '70',\n",
       "       '490', '380', '208', '98', '157', '76', '99', '114', '263', '173',\n",
       "       '95', '108', '156', '264', '123', '93', '107', '159', '140', '171',\n",
       "       '270', '92', '137', '204', '79', '207', '124', '144', '91', '162',\n",
       "       '246', '253', '141', '182', '86', '150', '146', '425', '112',\n",
       "       '250', '360', '163', '129', '133', '102', '158', '165', '132',\n",
       "       '104', '127', '415', '169', '251', '109', '280', '210', '219',\n",
       "       '295', '94', '172', '101', '298', '153', '88', '226', '143', '115',\n",
       "       '89', '297', '233', '294', '323', '125', '90', '308', '118', '224',\n",
       "       '128', '122', '214', '213', '268', '256', '84', '105', '288',\n",
       "       '139', '78', '273', '242', '424', '303', '148', '160', '192',\n",
       "       '307', '220', '447', '309', '22', '111', '261', '215', '234',\n",
       "       '131', '352', '80', '239', '110', '130', '184', '252', '113',\n",
       "       '230', '341', '255', '103', '238', '248', '120', '241', '269',\n",
       "       '201', '203', '463', '176', '82', '119', '97', '96', '81', '116',\n",
       "       '134', '85', '83', '87', '75'], dtype=object)"
      ]
     },
     "execution_count": 32,
     "metadata": {},
     "output_type": "execute_result"
    }
   ],
   "source": [
    "df['blood_glucose_random'].unique()"
   ]
  },
  {
   "cell_type": "code",
   "execution_count": 33,
   "id": "267b7a72-3aae-47ff-aba3-a6e6b9cac62d",
   "metadata": {},
   "outputs": [
    {
     "name": "stderr",
     "output_type": "stream",
     "text": [
      "/tmp/ipykernel_6007/1882041864.py:1: UserWarning: \n",
      "\n",
      "`distplot` is a deprecated function and will be removed in seaborn v0.14.0.\n",
      "\n",
      "Please adapt your code to use either `displot` (a figure-level function with\n",
      "similar flexibility) or `histplot` (an axes-level function for histograms).\n",
      "\n",
      "For a guide to updating your code to use the new functions, please see\n",
      "https://gist.github.com/mwaskom/de44147ed2974457ad6372750bbe5751\n",
      "\n",
      "  sns.distplot(df['blood_glucose_random'],kde = True)\n"
     ]
    },
    {
     "data": {
      "text/plain": [
       "<AxesSubplot: xlabel='blood_glucose_random', ylabel='Density'>"
      ]
     },
     "execution_count": 33,
     "metadata": {},
     "output_type": "execute_result"
    },
    {
     "data": {
      "image/png": "[encoded data removed]",
      "text/plain": [
       "<Figure size 640x480 with 1 Axes>"
      ]
     },
     "metadata": {},
     "output_type": "display_data"
    }
   ],
   "source": [
    "sns.distplot(df['blood_glucose_random'],kde = True)"
   ]
  },
  {
   "cell_type": "code",
   "execution_count": 34,
   "id": "dbda0f38-acc8-4fb3-9093-1df4fc9afff7",
   "metadata": {},
   "outputs": [],
   "source": [
    "df['blood_glucose_random']= df['blood_glucose_random'].astype('Int64')"
   ]
  },
  {
   "cell_type": "code",
   "execution_count": 35,
   "id": "beefac5d-b94e-494e-9769-08a558e63678",
   "metadata": {},
   "outputs": [],
   "source": [
    "df['blood_glucose_random'].fillna(int(df['blood_glucose_random'].mean()),inplace=True)"
   ]
  },
  {
   "cell_type": "code",
   "execution_count": 36,
   "id": "13f2d056-96f9-46ba-9719-da27509a2c8d",
   "metadata": {},
   "outputs": [],
   "source": [
    "df['blood_glucose_random']= df['blood_glucose_random'].astype(int)"
   ]
  },
  {
   "cell_type": "code",
   "execution_count": 37,
   "id": "4408b862-ac4c-46d4-8f0c-a4e5b3396fc2",
   "metadata": {},
   "outputs": [
    {
     "name": "stdout",
     "output_type": "stream",
     "text": [
      "<class 'pandas.core.frame.DataFrame'>\n",
      "RangeIndex: 400 entries, 0 to 399\n",
      "Data columns (total 26 columns):\n",
      " #   Column                Non-Null Count  Dtype \n",
      "---  ------                --------------  ----- \n",
      " 0   id                    400 non-null    int64 \n",
      " 1   age                   400 non-null    Int64 \n",
      " 2   bp                    400 non-null    int64 \n",
      " 3   sg                    400 non-null    object\n",
      " 4   albumin               400 non-null    object\n",
      " 5   sugar                 400 non-null    object\n",
      " 6   rbc                   400 non-null    object\n",
      " 7   pus_cell              400 non-null    object\n",
      " 8   pcclumps              400 non-null    object\n",
      " 9   bacteria              400 non-null    object\n",
      " 10  blood_glucose_random  400 non-null    int64 \n",
      " 11  blood_urea            381 non-null    object\n",
      " 12  serum_c               383 non-null    object\n",
      " 13  sodium                313 non-null    object\n",
      " 14  potassium             312 non-null    object\n",
      " 15  hemoglobin            348 non-null    object\n",
      " 16  pcv                   329 non-null    object\n",
      " 17  wbc_count             294 non-null    object\n",
      " 18  rbc_count             269 non-null    object\n",
      " 19  hyptension            398 non-null    object\n",
      " 20  diabetes-mellitus     398 non-null    object\n",
      " 21  cor_artery_disease    398 non-null    object\n",
      " 22  appetite              399 non-null    object\n",
      " 23  pe                    399 non-null    object\n",
      " 24  anemia                399 non-null    object\n",
      " 25  class                 400 non-null    object\n",
      "dtypes: Int64(1), int64(3), object(22)\n",
      "memory usage: 81.8+ KB\n"
     ]
    }
   ],
   "source": [
    "df.info()"
   ]
  },
  {
   "cell_type": "code",
   "execution_count": 53,
   "id": "06b7b2a9-9348-4111-8609-853930a8dd92",
   "metadata": {},
   "outputs": [],
   "source": [
    "df['blood_urea']=df['blood_urea'].astype('Float64')"
   ]
  },
  {
   "cell_type": "code",
   "execution_count": 55,
   "id": "c41a9ed4-2628-4f83-9c65-7b87f3e1b5a9",
   "metadata": {},
   "outputs": [],
   "source": [
    "df['blood_urea'].fillna(df['blood_urea'].mean(),inplace=True)"
   ]
  },
  {
   "cell_type": "code",
   "execution_count": 58,
   "id": "a572c8e5-41dd-44c2-9ad8-76d2f386fee0",
   "metadata": {},
   "outputs": [
    {
     "data": {
      "text/plain": [
       "0"
      ]
     },
     "execution_count": 58,
     "metadata": {},
     "output_type": "execute_result"
    }
   ],
   "source": [
    "df['blood_urea'].isna().sum()"
   ]
  },
  {
   "cell_type": "code",
   "execution_count": 89,
   "id": "c1197da9-9967-43e0-b735-c24f812a7e27",
   "metadata": {},
   "outputs": [],
   "source": [
    "df['serum_c']=df['serum_c'].astype('Float64')"
   ]
  },
  {
   "cell_type": "code",
   "execution_count": 96,
   "id": "41b91e75-ed92-492d-9c38-0796e8ac453f",
   "metadata": {},
   "outputs": [
    {
     "data": {
      "text/plain": [
       "(3.072454308093995, 1.3, 1.2)"
      ]
     },
     "execution_count": 96,
     "metadata": {},
     "output_type": "execute_result"
    }
   ],
   "source": [
    "df['serum_c'].mean(),df['serum_c'].median(),mode(df['serum_c'])"
   ]
  },
  {
   "cell_type": "code",
   "execution_count": 97,
   "id": "3e749818-efa2-4326-a4ae-8c0d3897779d",
   "metadata": {},
   "outputs": [],
   "source": [
    "df['serum_c'].fillna(df['serum_c'].median(),inplace=True)"
   ]
  },
  {
   "cell_type": "code",
   "execution_count": 106,
   "id": "d3b78c2b-67f8-4f5f-b202-4c368563d157",
   "metadata": {},
   "outputs": [
    {
     "data": {
      "text/plain": [
       "array([nan, '111', '142', '104', '114', '131', '138', '135', '130', '141',\n",
       "       '139', '4.5', '136', '129', '140', '132', '133', '134', '125',\n",
       "       '163', '137', '128', '143', '127', '146', '126', '122', '147',\n",
       "       '124', '115', '145', '113', '120', '150', '144'], dtype=object)"
      ]
     },
     "execution_count": 106,
     "metadata": {},
     "output_type": "execute_result"
    }
   ],
   "source": [
    "df['sodium'].unique()"
   ]
  },
  {
   "cell_type": "code",
   "execution_count": 108,
   "id": "076ce45d-4a3c-4c6d-9dc5-7160dd0f56fd",
   "metadata": {},
   "outputs": [],
   "source": [
    "df['sodium']=df['sodium'].astype('Int64')"
   ]
  },
  {
   "cell_type": "code",
   "execution_count": 109,
   "id": "cc64f9a5-2617-4a62-a76e-0034ad1be0e9",
   "metadata": {},
   "outputs": [
    {
     "data": {
      "text/plain": [
       "(137.52715654952075, 138.0, <NA>)"
      ]
     },
     "execution_count": 109,
     "metadata": {},
     "output_type": "execute_result"
    }
   ],
   "source": [
    "df['sodium'].mean(),df['sodium'].median(),mode(df['sodium'])"
   ]
  },
  {
   "cell_type": "code",
   "execution_count": 111,
   "id": "517607aa-1fc1-4941-807f-43114b1b94cb",
   "metadata": {},
   "outputs": [],
   "source": [
    "df['sodium'].fillna(df['sodium'].median(),inplace=True)"
   ]
  },
  {
   "cell_type": "code",
   "execution_count": 117,
   "id": "f6f266be-7d23-4902-bd6f-a8f2be28d0d8",
   "metadata": {},
   "outputs": [],
   "source": [
    "df['potassium']=df['potassium'].astype('Float64')"
   ]
  },
  {
   "cell_type": "code",
   "execution_count": 119,
   "id": "ef8a142f-21df-43d4-8118-813f59f558cb",
   "metadata": {},
   "outputs": [
    {
     "data": {
      "text/plain": [
       "(4.62724358974359, 4.4, <NA>)"
      ]
     },
     "execution_count": 119,
     "metadata": {},
     "output_type": "execute_result"
    }
   ],
   "source": [
    "df['potassium'].mean(),df['potassium'].median(),mode(df['potassium'])"
   ]
  },
  {
   "cell_type": "code",
   "execution_count": 120,
   "id": "18a191d8-c248-4494-b192-d376bfcb6195",
   "metadata": {},
   "outputs": [],
   "source": [
    "df['potassium'].fillna(df['potassium'].mean(),inplace=True)"
   ]
  },
  {
   "cell_type": "code",
   "execution_count": 122,
   "id": "aaf664b0-1769-4a0f-83bc-1a8d7b129e51",
   "metadata": {},
   "outputs": [
    {
     "data": {
      "text/plain": [
       "0"
      ]
     },
     "execution_count": 122,
     "metadata": {},
     "output_type": "execute_result"
    }
   ],
   "source": [
    "df['potassium'].isna().sum()"
   ]
  },
  {
   "cell_type": "code",
   "execution_count": 126,
   "id": "aa8104df-ffc4-4d75-b2ba-4417a9c677a4",
   "metadata": {},
   "outputs": [],
   "source": [
    "df['hemoglobin']=df['hemoglobin'].astype('Float64')"
   ]
  },
  {
   "cell_type": "code",
   "execution_count": 127,
   "id": "d354481c-ec57-48e5-ba44-c72ab7c35f0e",
   "metadata": {},
   "outputs": [
    {
     "data": {
      "text/plain": [
       "(12.526436781609192, 12.649999999999999, <NA>)"
      ]
     },
     "execution_count": 127,
     "metadata": {},
     "output_type": "execute_result"
    }
   ],
   "source": [
    "df['hemoglobin'].mean(),df['hemoglobin'].median(),mode(df['hemoglobin'])"
   ]
  },
  {
   "cell_type": "code",
   "execution_count": 129,
   "id": "f56c5fe9-e96b-4387-b1ed-adf8cfa8e704",
   "metadata": {},
   "outputs": [],
   "source": [
    "df['hemoglobin'].fillna(df['hemoglobin'].mean(),inplace=True)"
   ]
  },
  {
   "cell_type": "code",
   "execution_count": 130,
   "id": "f02a4be9-4a3d-416e-a896-9b8b2e225bd0",
   "metadata": {},
   "outputs": [
    {
     "data": {
      "text/plain": [
       "0"
      ]
     },
     "execution_count": 130,
     "metadata": {},
     "output_type": "execute_result"
    }
   ],
   "source": [
    "df['hemoglobin'].isna().sum()"
   ]
  },
  {
   "cell_type": "code",
   "execution_count": 135,
   "id": "e11c3a63-a33a-448b-896b-f7edb66ea38b",
   "metadata": {},
   "outputs": [],
   "source": [
    "df['pcv']=df['pcv'].astype('Int64')"
   ]
  },
  {
   "cell_type": "code",
   "execution_count": 136,
   "id": "95965618-f131-4808-af91-817caf92b1f3",
   "metadata": {},
   "outputs": [
    {
     "data": {
      "text/plain": [
       "(38.88449848024316, 40.0, <NA>)"
      ]
     },
     "execution_count": 136,
     "metadata": {},
     "output_type": "execute_result"
    }
   ],
   "source": [
    "df['pcv'].mean(),df['pcv'].median(),mode(df['pcv'])"
   ]
  },
  {
   "cell_type": "code",
   "execution_count": 151,
   "id": "62913329-ac6e-4ae4-bd7f-b6bc34e774ae",
   "metadata": {},
   "outputs": [
    {
     "name": "stderr",
     "output_type": "stream",
     "text": [
      "/tmp/ipykernel_6007/1838966245.py:3: UserWarning: \n",
      "\n",
      "`distplot` is a deprecated function and will be removed in seaborn v0.14.0.\n",
      "\n",
      "Please adapt your code to use either `displot` (a figure-level function with\n",
      "similar flexibility) or `histplot` (an axes-level function for histograms).\n",
      "\n",
      "For a guide to updating your code to use the new functions, please see\n",
      "https://gist.github.com/mwaskom/de44147ed2974457ad6372750bbe5751\n",
      "\n",
      "  sns.distplot(copy['pcv'],kde=True)\n"
     ]
    },
    {
     "data": {
      "text/plain": [
       "<AxesSubplot: xlabel='pcv', ylabel='Density'>"
      ]
     },
     "execution_count": 151,
     "metadata": {},
     "output_type": "execute_result"
    },
    {
     "data": {
      "image/png": "[encoded data removed]",
      "text/plain": [
       "<Figure size 640x480 with 1 Axes>"
      ]
     },
     "metadata": {},
     "output_type": "display_data"
    }
   ],
   "source": [
    "copy = df[['pcv']].copy()\n",
    "copy.dropna(axis=0,inplace=True)\n",
    "sns.distplot(copy['pcv'],kde=True)"
   ]
  },
  {
   "cell_type": "code",
   "execution_count": 144,
   "id": "4435916c-849a-4190-9f4a-0ae52b0148b8",
   "metadata": {},
   "outputs": [],
   "source": [
    "df['pcv'].fillna(df['pcv'].median(),inplace=True)"
   ]
  },
  {
   "cell_type": "code",
   "execution_count": 148,
   "id": "08333168-6c9c-4fce-9d6b-dbb6f32f0dca",
   "metadata": {},
   "outputs": [],
   "source": [
    "df['wbc_count']=df['wbc_count'].astype('Int64')"
   ]
  },
  {
   "cell_type": "code",
   "execution_count": 149,
   "id": "70764acb-da1e-402a-9ce5-11669dd8a889",
   "metadata": {},
   "outputs": [
    {
     "data": {
      "text/plain": [
       "106"
      ]
     },
     "execution_count": 149,
     "metadata": {},
     "output_type": "execute_result"
    }
   ],
   "source": [
    "df['wbc_count'].isna().sum()"
   ]
  },
  {
   "cell_type": "code",
   "execution_count": 150,
   "id": "0093595c-e8bd-4f34-b6d6-72023f1976c1",
   "metadata": {},
   "outputs": [
    {
     "data": {
      "text/plain": [
       "(8406.122448979591, 8000.0, <NA>)"
      ]
     },
     "execution_count": 150,
     "metadata": {},
     "output_type": "execute_result"
    }
   ],
   "source": [
    "df['wbc_count'].mean(),df['wbc_count'].median(),mode(df['wbc_count'])"
   ]
  },
  {
   "cell_type": "code",
   "execution_count": 155,
   "id": "9dc19a15-0900-4e03-8946-82485ea67176",
   "metadata": {},
   "outputs": [
    {
     "name": "stderr",
     "output_type": "stream",
     "text": [
      "/tmp/ipykernel_6007/3094920422.py:3: UserWarning: \n",
      "\n",
      "`distplot` is a deprecated function and will be removed in seaborn v0.14.0.\n",
      "\n",
      "Please adapt your code to use either `displot` (a figure-level function with\n",
      "similar flexibility) or `histplot` (an axes-level function for histograms).\n",
      "\n",
      "For a guide to updating your code to use the new functions, please see\n",
      "https://gist.github.com/mwaskom/de44147ed2974457ad6372750bbe5751\n",
      "\n",
      "  sns.distplot(copy['wbc_count'],kde=True)\n"
     ]
    },
    {
     "data": {
      "text/plain": [
       "(9800, 8406.122448979591, 8000.0)"
      ]
     },
     "execution_count": 155,
     "metadata": {},
     "output_type": "execute_result"
    },
    {
     "data": {
      "image/png": "[encoded data removed]",
      "text/plain": [
       "<Figure size 640x480 with 1 Axes>"
      ]
     },
     "metadata": {},
     "output_type": "display_data"
    }
   ],
   "source": [
    "copy = df[['wbc_count']].copy()\n",
    "copy.dropna(axis=0,inplace=True)\n",
    "sns.distplot(copy['wbc_count'],kde=True)\n",
    "mode(copy['wbc_count']),copy['wbc_count'].mean(),copy['wbc_count'].median()"
   ]
  },
  {
   "cell_type": "code",
   "execution_count": 156,
   "id": "0642b9c0-79f8-4623-a7c1-05ade7bb91d1",
   "metadata": {},
   "outputs": [],
   "source": [
    "df['wbc_count'].fillna(df['wbc_count'].median(),inplace=True)"
   ]
  },
  {
   "cell_type": "code",
   "execution_count": 158,
   "id": "2370b8ad-c7cc-4839-8d12-25a706c5cdf4",
   "metadata": {},
   "outputs": [
    {
     "data": {
      "text/plain": [
       "0"
      ]
     },
     "execution_count": 158,
     "metadata": {},
     "output_type": "execute_result"
    }
   ],
   "source": [
    "df['wbc_count'].isna().sum()"
   ]
  },
  {
   "cell_type": "code",
   "execution_count": 163,
   "id": "a59d3c5e-d3f9-4723-8bf8-b707a57bbb61",
   "metadata": {},
   "outputs": [],
   "source": [
    "df['rbc_count']=df['rbc_count'].astype('Float64')"
   ]
  },
  {
   "cell_type": "code",
   "execution_count": 164,
   "id": "22ff096d-747e-46d9-86b4-01a234c950d9",
   "metadata": {},
   "outputs": [
    {
     "data": {
      "text/plain": [
       "(4.707434944237919, 4.8, <NA>)"
      ]
     },
     "execution_count": 164,
     "metadata": {},
     "output_type": "execute_result"
    }
   ],
   "source": [
    "df['rbc_count'].mean(),df['rbc_count'].median(),mode(df['rbc_count'])"
   ]
  },
  {
   "cell_type": "code",
   "execution_count": 166,
   "id": "082893a9-e011-49fd-b50e-41aad0a19824",
   "metadata": {},
   "outputs": [],
   "source": [
    "df['rbc_count'].fillna(df['rbc_count'].median(),inplace= True)"
   ]
  },
  {
   "cell_type": "code",
   "execution_count": 171,
   "id": "00d38577-f995-441d-9f02-ad50fa1fb3f1",
   "metadata": {},
   "outputs": [
    {
     "data": {
      "text/plain": [
       "(      id  age  bp     sg albumin sugar     rbc pus_cell    pcclumps  \\\n",
       " 288  289   56  70  1.025       0     0  normal   normal  notpresent   \n",
       " 297  298   53  60  1.025       0     0  normal   normal  notpresent   \n",
       " \n",
       "        bacteria  ...  pcv  wbc_count  rbc_count  hyptension  \\\n",
       " 288  notpresent  ...   50      11000        5.1         NaN   \n",
       " 297  notpresent  ...   45       7700        5.2         NaN   \n",
       " \n",
       "      diabetes-mellitus  cor_artery_disease  appetite  pe  anemia   class  \n",
       " 288                NaN                 NaN      good  no      no  notckd  \n",
       " 297                NaN                 NaN      good  no      no  notckd  \n",
       " \n",
       " [2 rows x 26 columns],\n",
       " Int64Index([288, 297], dtype='int64'))"
      ]
     },
     "execution_count": 171,
     "metadata": {},
     "output_type": "execute_result"
    }
   ],
   "source": [
    "df[df['hyptension'].isna()],df[df['hyptension'].isna()].index"
   ]
  },
  {
   "cell_type": "code",
   "execution_count": 172,
   "id": "062b90cc-c5f5-4140-a846-9bdbfc17aa5c",
   "metadata": {},
   "outputs": [],
   "source": [
    "df.drop(df[df['hyptension'].isna()].index,axis=0,inplace=True)"
   ]
  },
  {
   "cell_type": "code",
   "execution_count": 183,
   "id": "0e67aa53-a043-49e9-a481-abc981622e98",
   "metadata": {},
   "outputs": [],
   "source": [
    "df.drop(df[df['appetite'].isna()].index,axis=0,inplace=True)"
   ]
  },
  {
   "cell_type": "code",
   "execution_count": 188,
   "id": "c93b126d-a39f-42d1-bfc7-a50bf3f46d4e",
   "metadata": {},
   "outputs": [],
   "source": [
    "df['id']= np.arange(1,len(df)+1)"
   ]
  },
  {
   "cell_type": "code",
   "execution_count": 194,
   "id": "959e7348-ba90-4885-8bbd-df6dc7e7eb25",
   "metadata": {},
   "outputs": [],
   "source": [
    "df.reset_index(inplace=True)"
   ]
  },
  {
   "cell_type": "code",
   "execution_count": 196,
   "id": "af3dff9d-fcb6-4024-bbab-b02c345aa1db",
   "metadata": {},
   "outputs": [],
   "source": [
    "df.drop('index',axis=1,inplace=True)"
   ]
  },
  {
   "cell_type": "code",
   "execution_count": 197,
   "id": "b7bd39b4-8cf9-4f01-8c01-27c54b1c0eb4",
   "metadata": {},
   "outputs": [
    {
     "data": {
      "text/html": [
       "<div>\n",
       "<style scoped>\n",
       "    .dataframe tbody tr th:only-of-type {\n",
       "        vertical-align: middle;\n",
       "    }\n",
       "\n",
       "    .dataframe tbody tr th {\n",
       "        vertical-align: top;\n",
       "    }\n",
       "\n",
       "    .dataframe thead th {\n",
       "        text-align: right;\n",
       "    }\n",
       "</style>\n",
       "<table border=\"1\" class=\"dataframe\">\n",
       "  <thead>\n",
       "    <tr style=\"text-align: right;\">\n",
       "      <th></th>\n",
       "      <th>id</th>\n",
       "      <th>age</th>\n",
       "      <th>bp</th>\n",
       "      <th>sg</th>\n",
       "      <th>albumin</th>\n",
       "      <th>sugar</th>\n",
       "      <th>rbc</th>\n",
       "      <th>pus_cell</th>\n",
       "      <th>pcclumps</th>\n",
       "      <th>bacteria</th>\n",
       "      <th>...</th>\n",
       "      <th>pcv</th>\n",
       "      <th>wbc_count</th>\n",
       "      <th>rbc_count</th>\n",
       "      <th>hyptension</th>\n",
       "      <th>diabetes-mellitus</th>\n",
       "      <th>cor_artery_disease</th>\n",
       "      <th>appetite</th>\n",
       "      <th>pe</th>\n",
       "      <th>anemia</th>\n",
       "      <th>class</th>\n",
       "    </tr>\n",
       "  </thead>\n",
       "  <tbody>\n",
       "    <tr>\n",
       "      <th>0</th>\n",
       "      <td>1</td>\n",
       "      <td>48</td>\n",
       "      <td>80</td>\n",
       "      <td>1.02</td>\n",
       "      <td>1</td>\n",
       "      <td>0</td>\n",
       "      <td>normal</td>\n",
       "      <td>normal</td>\n",
       "      <td>notpresent</td>\n",
       "      <td>notpresent</td>\n",
       "      <td>...</td>\n",
       "      <td>44</td>\n",
       "      <td>7800</td>\n",
       "      <td>5.2</td>\n",
       "      <td>yes</td>\n",
       "      <td>yes</td>\n",
       "      <td>no</td>\n",
       "      <td>good</td>\n",
       "      <td>no</td>\n",
       "      <td>no</td>\n",
       "      <td>ckd</td>\n",
       "    </tr>\n",
       "    <tr>\n",
       "      <th>1</th>\n",
       "      <td>2</td>\n",
       "      <td>7</td>\n",
       "      <td>50</td>\n",
       "      <td>1.02</td>\n",
       "      <td>4</td>\n",
       "      <td>0</td>\n",
       "      <td>normal</td>\n",
       "      <td>normal</td>\n",
       "      <td>notpresent</td>\n",
       "      <td>notpresent</td>\n",
       "      <td>...</td>\n",
       "      <td>38</td>\n",
       "      <td>6000</td>\n",
       "      <td>4.8</td>\n",
       "      <td>no</td>\n",
       "      <td>no</td>\n",
       "      <td>no</td>\n",
       "      <td>good</td>\n",
       "      <td>no</td>\n",
       "      <td>no</td>\n",
       "      <td>ckd</td>\n",
       "    </tr>\n",
       "    <tr>\n",
       "      <th>2</th>\n",
       "      <td>3</td>\n",
       "      <td>62</td>\n",
       "      <td>80</td>\n",
       "      <td>1.01</td>\n",
       "      <td>2</td>\n",
       "      <td>3</td>\n",
       "      <td>normal</td>\n",
       "      <td>normal</td>\n",
       "      <td>notpresent</td>\n",
       "      <td>notpresent</td>\n",
       "      <td>...</td>\n",
       "      <td>31</td>\n",
       "      <td>7500</td>\n",
       "      <td>4.8</td>\n",
       "      <td>no</td>\n",
       "      <td>yes</td>\n",
       "      <td>no</td>\n",
       "      <td>poor</td>\n",
       "      <td>no</td>\n",
       "      <td>yes</td>\n",
       "      <td>ckd</td>\n",
       "    </tr>\n",
       "    <tr>\n",
       "      <th>3</th>\n",
       "      <td>4</td>\n",
       "      <td>48</td>\n",
       "      <td>70</td>\n",
       "      <td>1.005</td>\n",
       "      <td>4</td>\n",
       "      <td>0</td>\n",
       "      <td>normal</td>\n",
       "      <td>abnormal</td>\n",
       "      <td>present</td>\n",
       "      <td>notpresent</td>\n",
       "      <td>...</td>\n",
       "      <td>32</td>\n",
       "      <td>6700</td>\n",
       "      <td>3.9</td>\n",
       "      <td>yes</td>\n",
       "      <td>no</td>\n",
       "      <td>no</td>\n",
       "      <td>poor</td>\n",
       "      <td>yes</td>\n",
       "      <td>yes</td>\n",
       "      <td>ckd</td>\n",
       "    </tr>\n",
       "    <tr>\n",
       "      <th>4</th>\n",
       "      <td>5</td>\n",
       "      <td>51</td>\n",
       "      <td>80</td>\n",
       "      <td>1.01</td>\n",
       "      <td>2</td>\n",
       "      <td>0</td>\n",
       "      <td>normal</td>\n",
       "      <td>normal</td>\n",
       "      <td>notpresent</td>\n",
       "      <td>notpresent</td>\n",
       "      <td>...</td>\n",
       "      <td>35</td>\n",
       "      <td>7300</td>\n",
       "      <td>4.6</td>\n",
       "      <td>no</td>\n",
       "      <td>no</td>\n",
       "      <td>no</td>\n",
       "      <td>good</td>\n",
       "      <td>no</td>\n",
       "      <td>no</td>\n",
       "      <td>ckd</td>\n",
       "    </tr>\n",
       "    <tr>\n",
       "      <th>...</th>\n",
       "      <td>...</td>\n",
       "      <td>...</td>\n",
       "      <td>...</td>\n",
       "      <td>...</td>\n",
       "      <td>...</td>\n",
       "      <td>...</td>\n",
       "      <td>...</td>\n",
       "      <td>...</td>\n",
       "      <td>...</td>\n",
       "      <td>...</td>\n",
       "      <td>...</td>\n",
       "      <td>...</td>\n",
       "      <td>...</td>\n",
       "      <td>...</td>\n",
       "      <td>...</td>\n",
       "      <td>...</td>\n",
       "      <td>...</td>\n",
       "      <td>...</td>\n",
       "      <td>...</td>\n",
       "      <td>...</td>\n",
       "      <td>...</td>\n",
       "    </tr>\n",
       "    <tr>\n",
       "      <th>392</th>\n",
       "      <td>393</td>\n",
       "      <td>55</td>\n",
       "      <td>80</td>\n",
       "      <td>1.02</td>\n",
       "      <td>0</td>\n",
       "      <td>0</td>\n",
       "      <td>normal</td>\n",
       "      <td>normal</td>\n",
       "      <td>notpresent</td>\n",
       "      <td>notpresent</td>\n",
       "      <td>...</td>\n",
       "      <td>47</td>\n",
       "      <td>6700</td>\n",
       "      <td>4.9</td>\n",
       "      <td>no</td>\n",
       "      <td>no</td>\n",
       "      <td>no</td>\n",
       "      <td>good</td>\n",
       "      <td>no</td>\n",
       "      <td>no</td>\n",
       "      <td>notckd</td>\n",
       "    </tr>\n",
       "    <tr>\n",
       "      <th>393</th>\n",
       "      <td>394</td>\n",
       "      <td>42</td>\n",
       "      <td>70</td>\n",
       "      <td>1.025</td>\n",
       "      <td>0</td>\n",
       "      <td>0</td>\n",
       "      <td>normal</td>\n",
       "      <td>normal</td>\n",
       "      <td>notpresent</td>\n",
       "      <td>notpresent</td>\n",
       "      <td>...</td>\n",
       "      <td>54</td>\n",
       "      <td>7800</td>\n",
       "      <td>6.2</td>\n",
       "      <td>no</td>\n",
       "      <td>no</td>\n",
       "      <td>no</td>\n",
       "      <td>good</td>\n",
       "      <td>no</td>\n",
       "      <td>no</td>\n",
       "      <td>notckd</td>\n",
       "    </tr>\n",
       "    <tr>\n",
       "      <th>394</th>\n",
       "      <td>395</td>\n",
       "      <td>12</td>\n",
       "      <td>80</td>\n",
       "      <td>1.02</td>\n",
       "      <td>0</td>\n",
       "      <td>0</td>\n",
       "      <td>normal</td>\n",
       "      <td>normal</td>\n",
       "      <td>notpresent</td>\n",
       "      <td>notpresent</td>\n",
       "      <td>...</td>\n",
       "      <td>49</td>\n",
       "      <td>6600</td>\n",
       "      <td>5.4</td>\n",
       "      <td>no</td>\n",
       "      <td>no</td>\n",
       "      <td>no</td>\n",
       "      <td>good</td>\n",
       "      <td>no</td>\n",
       "      <td>no</td>\n",
       "      <td>notckd</td>\n",
       "    </tr>\n",
       "    <tr>\n",
       "      <th>395</th>\n",
       "      <td>396</td>\n",
       "      <td>17</td>\n",
       "      <td>60</td>\n",
       "      <td>1.025</td>\n",
       "      <td>0</td>\n",
       "      <td>0</td>\n",
       "      <td>normal</td>\n",
       "      <td>normal</td>\n",
       "      <td>notpresent</td>\n",
       "      <td>notpresent</td>\n",
       "      <td>...</td>\n",
       "      <td>51</td>\n",
       "      <td>7200</td>\n",
       "      <td>5.9</td>\n",
       "      <td>no</td>\n",
       "      <td>no</td>\n",
       "      <td>no</td>\n",
       "      <td>good</td>\n",
       "      <td>no</td>\n",
       "      <td>no</td>\n",
       "      <td>notckd</td>\n",
       "    </tr>\n",
       "    <tr>\n",
       "      <th>396</th>\n",
       "      <td>397</td>\n",
       "      <td>58</td>\n",
       "      <td>80</td>\n",
       "      <td>1.025</td>\n",
       "      <td>0</td>\n",
       "      <td>0</td>\n",
       "      <td>normal</td>\n",
       "      <td>normal</td>\n",
       "      <td>notpresent</td>\n",
       "      <td>notpresent</td>\n",
       "      <td>...</td>\n",
       "      <td>53</td>\n",
       "      <td>6800</td>\n",
       "      <td>6.1</td>\n",
       "      <td>no</td>\n",
       "      <td>no</td>\n",
       "      <td>no</td>\n",
       "      <td>good</td>\n",
       "      <td>no</td>\n",
       "      <td>no</td>\n",
       "      <td>notckd</td>\n",
       "    </tr>\n",
       "  </tbody>\n",
       "</table>\n",
       "<p>397 rows × 26 columns</p>\n",
       "</div>"
      ],
      "text/plain": [
       "      id  age  bp     sg albumin sugar     rbc  pus_cell    pcclumps  \\\n",
       "0      1   48  80   1.02       1     0  normal    normal  notpresent   \n",
       "1      2    7  50   1.02       4     0  normal    normal  notpresent   \n",
       "2      3   62  80   1.01       2     3  normal    normal  notpresent   \n",
       "3      4   48  70  1.005       4     0  normal  abnormal     present   \n",
       "4      5   51  80   1.01       2     0  normal    normal  notpresent   \n",
       "..   ...  ...  ..    ...     ...   ...     ...       ...         ...   \n",
       "392  393   55  80   1.02       0     0  normal    normal  notpresent   \n",
       "393  394   42  70  1.025       0     0  normal    normal  notpresent   \n",
       "394  395   12  80   1.02       0     0  normal    normal  notpresent   \n",
       "395  396   17  60  1.025       0     0  normal    normal  notpresent   \n",
       "396  397   58  80  1.025       0     0  normal    normal  notpresent   \n",
       "\n",
       "       bacteria  ...  pcv  wbc_count  rbc_count  hyptension  \\\n",
       "0    notpresent  ...   44       7800        5.2         yes   \n",
       "1    notpresent  ...   38       6000        4.8          no   \n",
       "2    notpresent  ...   31       7500        4.8          no   \n",
       "3    notpresent  ...   32       6700        3.9         yes   \n",
       "4    notpresent  ...   35       7300        4.6          no   \n",
       "..          ...  ...  ...        ...        ...         ...   \n",
       "392  notpresent  ...   47       6700        4.9          no   \n",
       "393  notpresent  ...   54       7800        6.2          no   \n",
       "394  notpresent  ...   49       6600        5.4          no   \n",
       "395  notpresent  ...   51       7200        5.9          no   \n",
       "396  notpresent  ...   53       6800        6.1          no   \n",
       "\n",
       "     diabetes-mellitus  cor_artery_disease  appetite   pe  anemia   class  \n",
       "0                  yes                  no      good   no      no     ckd  \n",
       "1                   no                  no      good   no      no     ckd  \n",
       "2                  yes                  no      poor   no     yes     ckd  \n",
       "3                   no                  no      poor  yes     yes     ckd  \n",
       "4                   no                  no      good   no      no     ckd  \n",
       "..                 ...                 ...       ...  ...     ...     ...  \n",
       "392                 no                  no      good   no      no  notckd  \n",
       "393                 no                  no      good   no      no  notckd  \n",
       "394                 no                  no      good   no      no  notckd  \n",
       "395                 no                  no      good   no      no  notckd  \n",
       "396                 no                  no      good   no      no  notckd  \n",
       "\n",
       "[397 rows x 26 columns]"
      ]
     },
     "execution_count": 197,
     "metadata": {},
     "output_type": "execute_result"
    }
   ],
   "source": [
    "df"
   ]
  },
  {
   "cell_type": "code",
   "execution_count": 198,
   "id": "8b988b53-114b-4e03-92fe-5a4bae08f72b",
   "metadata": {},
   "outputs": [],
   "source": [
    "df.to_csv(\"kidney_disease.csv\")"
   ]
  }
 ],
 "metadata": {
  "kernelspec": {
   "display_name": "Python 3 (ipykernel)",
   "language": "python",
   "name": "python3"
  },
  "language_info": {
   "codemirror_mode": {
    "name": "ipython",
    "version": 3
   },
   "file_extension": ".py",
   "mimetype": "text/x-python",
   "name": "python",
   "nbconvert_exporter": "python",
   "pygments_lexer": "ipython3",
   "version": "3.10.6"
  }
 },
 "nbformat": 4,
 "nbformat_minor": 5
}
